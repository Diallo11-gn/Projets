{
  "nbformat": 4,
  "nbformat_minor": 0,
  "metadata": {
    "colab": {
      "provenance": []
    },
    "kernelspec": {
      "name": "python3",
      "display_name": "Python 3"
    },
    "language_info": {
      "name": "python"
    }
  },
  "cells": [
    {
      "cell_type": "markdown",
      "source": [
        "Installation des packages"
      ],
      "metadata": {
        "id": "Oh-lScrZQr0B"
      }
    },
    {
      "cell_type": "code",
      "source": [
        "pip install pandas numpy scikit-learn keras pyreadr tensorflow"
      ],
      "metadata": {
        "id": "n04qDqF9QqkC"
      },
      "execution_count": null,
      "outputs": []
    },
    {
      "cell_type": "markdown",
      "source": [
        "**1. Chargement des bibliothèques**"
      ],
      "metadata": {
        "id": "_GFftX_bPWEl"
      }
    },
    {
      "cell_type": "code",
      "execution_count": 3,
      "metadata": {
        "id": "1Tz6cNLWPEht"
      },
      "outputs": [],
      "source": [
        "import pandas as pd\n",
        "import numpy as np\n",
        "from sklearn.model_selection import train_test_split, GridSearchCV, cross_val_score\n",
        "from sklearn.preprocessing import StandardScaler\n",
        "from sklearn.linear_model import LogisticRegression\n",
        "from sklearn.ensemble import RandomForestClassifier\n",
        "from sklearn.metrics import accuracy_score, classification_report, confusion_matrix\n",
        "from keras.models import Sequential\n",
        "from keras.layers import Dense\n",
        "import matplotlib.pyplot as plt\n",
        "import tensorflow as tf\n",
        "import pyreadr"
      ]
    },
    {
      "cell_type": "markdown",
      "source": [
        "2. **Importation du dataset**"
      ],
      "metadata": {
        "id": "sjZrESfhPSVb"
      }
    },
    {
      "cell_type": "code",
      "source": [
        "from google.colab import files\n",
        "uploaded = files.upload()"
      ],
      "metadata": {
        "colab": {
          "base_uri": "https://localhost:8080/",
          "height": 73
        },
        "id": "9wVBg6rlP3Vt",
        "outputId": "59eb64cb-8cf5-419c-94d8-84473b064b25"
      },
      "execution_count": 4,
      "outputs": [
        {
          "output_type": "display_data",
          "data": {
            "text/plain": [
              "<IPython.core.display.HTML object>"
            ],
            "text/html": [
              "\n",
              "     <input type=\"file\" id=\"files-680b1d08-3512-4ef9-b8a4-6940159469a6\" name=\"files[]\" multiple disabled\n",
              "        style=\"border:none\" />\n",
              "     <output id=\"result-680b1d08-3512-4ef9-b8a4-6940159469a6\">\n",
              "      Upload widget is only available when the cell has been executed in the\n",
              "      current browser session. Please rerun this cell to enable.\n",
              "      </output>\n",
              "      <script>// Copyright 2017 Google LLC\n",
              "//\n",
              "// Licensed under the Apache License, Version 2.0 (the \"License\");\n",
              "// you may not use this file except in compliance with the License.\n",
              "// You may obtain a copy of the License at\n",
              "//\n",
              "//      http://www.apache.org/licenses/LICENSE-2.0\n",
              "//\n",
              "// Unless required by applicable law or agreed to in writing, software\n",
              "// distributed under the License is distributed on an \"AS IS\" BASIS,\n",
              "// WITHOUT WARRANTIES OR CONDITIONS OF ANY KIND, either express or implied.\n",
              "// See the License for the specific language governing permissions and\n",
              "// limitations under the License.\n",
              "\n",
              "/**\n",
              " * @fileoverview Helpers for google.colab Python module.\n",
              " */\n",
              "(function(scope) {\n",
              "function span(text, styleAttributes = {}) {\n",
              "  const element = document.createElement('span');\n",
              "  element.textContent = text;\n",
              "  for (const key of Object.keys(styleAttributes)) {\n",
              "    element.style[key] = styleAttributes[key];\n",
              "  }\n",
              "  return element;\n",
              "}\n",
              "\n",
              "// Max number of bytes which will be uploaded at a time.\n",
              "const MAX_PAYLOAD_SIZE = 100 * 1024;\n",
              "\n",
              "function _uploadFiles(inputId, outputId) {\n",
              "  const steps = uploadFilesStep(inputId, outputId);\n",
              "  const outputElement = document.getElementById(outputId);\n",
              "  // Cache steps on the outputElement to make it available for the next call\n",
              "  // to uploadFilesContinue from Python.\n",
              "  outputElement.steps = steps;\n",
              "\n",
              "  return _uploadFilesContinue(outputId);\n",
              "}\n",
              "\n",
              "// This is roughly an async generator (not supported in the browser yet),\n",
              "// where there are multiple asynchronous steps and the Python side is going\n",
              "// to poll for completion of each step.\n",
              "// This uses a Promise to block the python side on completion of each step,\n",
              "// then passes the result of the previous step as the input to the next step.\n",
              "function _uploadFilesContinue(outputId) {\n",
              "  const outputElement = document.getElementById(outputId);\n",
              "  const steps = outputElement.steps;\n",
              "\n",
              "  const next = steps.next(outputElement.lastPromiseValue);\n",
              "  return Promise.resolve(next.value.promise).then((value) => {\n",
              "    // Cache the last promise value to make it available to the next\n",
              "    // step of the generator.\n",
              "    outputElement.lastPromiseValue = value;\n",
              "    return next.value.response;\n",
              "  });\n",
              "}\n",
              "\n",
              "/**\n",
              " * Generator function which is called between each async step of the upload\n",
              " * process.\n",
              " * @param {string} inputId Element ID of the input file picker element.\n",
              " * @param {string} outputId Element ID of the output display.\n",
              " * @return {!Iterable<!Object>} Iterable of next steps.\n",
              " */\n",
              "function* uploadFilesStep(inputId, outputId) {\n",
              "  const inputElement = document.getElementById(inputId);\n",
              "  inputElement.disabled = false;\n",
              "\n",
              "  const outputElement = document.getElementById(outputId);\n",
              "  outputElement.innerHTML = '';\n",
              "\n",
              "  const pickedPromise = new Promise((resolve) => {\n",
              "    inputElement.addEventListener('change', (e) => {\n",
              "      resolve(e.target.files);\n",
              "    });\n",
              "  });\n",
              "\n",
              "  const cancel = document.createElement('button');\n",
              "  inputElement.parentElement.appendChild(cancel);\n",
              "  cancel.textContent = 'Cancel upload';\n",
              "  const cancelPromise = new Promise((resolve) => {\n",
              "    cancel.onclick = () => {\n",
              "      resolve(null);\n",
              "    };\n",
              "  });\n",
              "\n",
              "  // Wait for the user to pick the files.\n",
              "  const files = yield {\n",
              "    promise: Promise.race([pickedPromise, cancelPromise]),\n",
              "    response: {\n",
              "      action: 'starting',\n",
              "    }\n",
              "  };\n",
              "\n",
              "  cancel.remove();\n",
              "\n",
              "  // Disable the input element since further picks are not allowed.\n",
              "  inputElement.disabled = true;\n",
              "\n",
              "  if (!files) {\n",
              "    return {\n",
              "      response: {\n",
              "        action: 'complete',\n",
              "      }\n",
              "    };\n",
              "  }\n",
              "\n",
              "  for (const file of files) {\n",
              "    const li = document.createElement('li');\n",
              "    li.append(span(file.name, {fontWeight: 'bold'}));\n",
              "    li.append(span(\n",
              "        `(${file.type || 'n/a'}) - ${file.size} bytes, ` +\n",
              "        `last modified: ${\n",
              "            file.lastModifiedDate ? file.lastModifiedDate.toLocaleDateString() :\n",
              "                                    'n/a'} - `));\n",
              "    const percent = span('0% done');\n",
              "    li.appendChild(percent);\n",
              "\n",
              "    outputElement.appendChild(li);\n",
              "\n",
              "    const fileDataPromise = new Promise((resolve) => {\n",
              "      const reader = new FileReader();\n",
              "      reader.onload = (e) => {\n",
              "        resolve(e.target.result);\n",
              "      };\n",
              "      reader.readAsArrayBuffer(file);\n",
              "    });\n",
              "    // Wait for the data to be ready.\n",
              "    let fileData = yield {\n",
              "      promise: fileDataPromise,\n",
              "      response: {\n",
              "        action: 'continue',\n",
              "      }\n",
              "    };\n",
              "\n",
              "    // Use a chunked sending to avoid message size limits. See b/62115660.\n",
              "    let position = 0;\n",
              "    do {\n",
              "      const length = Math.min(fileData.byteLength - position, MAX_PAYLOAD_SIZE);\n",
              "      const chunk = new Uint8Array(fileData, position, length);\n",
              "      position += length;\n",
              "\n",
              "      const base64 = btoa(String.fromCharCode.apply(null, chunk));\n",
              "      yield {\n",
              "        response: {\n",
              "          action: 'append',\n",
              "          file: file.name,\n",
              "          data: base64,\n",
              "        },\n",
              "      };\n",
              "\n",
              "      let percentDone = fileData.byteLength === 0 ?\n",
              "          100 :\n",
              "          Math.round((position / fileData.byteLength) * 100);\n",
              "      percent.textContent = `${percentDone}% done`;\n",
              "\n",
              "    } while (position < fileData.byteLength);\n",
              "  }\n",
              "\n",
              "  // All done.\n",
              "  yield {\n",
              "    response: {\n",
              "      action: 'complete',\n",
              "    }\n",
              "  };\n",
              "}\n",
              "\n",
              "scope.google = scope.google || {};\n",
              "scope.google.colab = scope.google.colab || {};\n",
              "scope.google.colab._files = {\n",
              "  _uploadFiles,\n",
              "  _uploadFilesContinue,\n",
              "};\n",
              "})(self);\n",
              "</script> "
            ]
          },
          "metadata": {}
        },
        {
          "output_type": "stream",
          "name": "stdout",
          "text": [
            "Saving data.rds to data.rds\n"
          ]
        }
      ]
    },
    {
      "cell_type": "markdown",
      "source": [
        "3. **Chargement et exploration**"
      ],
      "metadata": {
        "id": "YwjUTM01P4qx"
      }
    },
    {
      "cell_type": "code",
      "source": [
        "# Charger et préparer les données\n",
        "result = pyreadr.read_r(\"data.rds\")\n",
        "data_tot = result[None]\n",
        "data_t1 = data_tot[['hosp_exp_flg', 'censor_flg', 'sepsis_flg', 'chf_flg', 'afib_flg', 'renal_flg', 'liver_flg', 'copd_flg', 'cad_flg', 'aline_flg', 'icu_los_day', 'hospital_los_day', 'age', 'gender_num', 'icu_exp_flg', 'day_28_flg', 'service_num', 'mort_day_censored', 'day_icu_intime_num']]\n",
        "data_t1['hosp_exp_flg'] = pd.to_numeric(data_t1['hosp_exp_flg'])\n",
        "\n",
        "# Exploration des données\n",
        "data_t1.head()\n",
        "data_t1.info()\n",
        "data_t1.describe()"
      ],
      "metadata": {
        "id": "EYCyrGLIP6gn"
      },
      "execution_count": null,
      "outputs": []
    },
    {
      "cell_type": "markdown",
      "source": [
        "5. **Normalisation**"
      ],
      "metadata": {
        "id": "PlKyaQvGP7Qr"
      }
    },
    {
      "cell_type": "code",
      "source": [
        "# Créer de nouvelles caractéristiques si nécessaire\n",
        "# Normaliser les caractéristiques\n",
        "scaler = StandardScaler()\n",
        "X_scaled = scaler.fit_transform(data_t1.drop('hosp_exp_flg', axis=1))"
      ],
      "metadata": {
        "id": "sbiKjyjIP9O5"
      },
      "execution_count": 6,
      "outputs": []
    },
    {
      "cell_type": "markdown",
      "source": [
        "6. **Séparation du dataset**"
      ],
      "metadata": {
        "id": "b0pfYccyP91i"
      }
    },
    {
      "cell_type": "code",
      "source": [
        "# Division des données en ensembles d'entraînement, de validation et de test\n",
        "X_train, X_temp, y_train, y_temp = train_test_split(X_scaled, data_t1['hosp_exp_flg'], test_size=0.3, random_state=42)\n",
        "X_val, X_test, y_val, y_test = train_test_split(X_temp, y_temp, test_size=0.5, random_state=42)\n",
        "# Optimisation des hyperparamètres\n",
        "param_grid = {'C': [0.001, 0.01, 0.1, 1, 10, 100]}\n",
        "grid_search = GridSearchCV(LogisticRegression(max_iter=1000), param_grid, cv=5)\n",
        "grid_search.fit(X_train, y_train)\n",
        "best_lr_model = grid_search.best_estimator_\n",
        "\n",
        "# Entraînement du modèle final\n",
        "best_lr_model.fit(X_train, y_train)"
      ],
      "metadata": {
        "colab": {
          "base_uri": "https://localhost:8080/",
          "height": 74
        },
        "id": "8WOO7YPXP__Q",
        "outputId": "14b52885-b82b-4b42-e646-c3fa5510eeb6"
      },
      "execution_count": 8,
      "outputs": [
        {
          "output_type": "execute_result",
          "data": {
            "text/plain": [
              "LogisticRegression(C=1, max_iter=1000)"
            ],
            "text/html": [
              "<style>#sk-container-id-1 {color: black;background-color: white;}#sk-container-id-1 pre{padding: 0;}#sk-container-id-1 div.sk-toggleable {background-color: white;}#sk-container-id-1 label.sk-toggleable__label {cursor: pointer;display: block;width: 100%;margin-bottom: 0;padding: 0.3em;box-sizing: border-box;text-align: center;}#sk-container-id-1 label.sk-toggleable__label-arrow:before {content: \"▸\";float: left;margin-right: 0.25em;color: #696969;}#sk-container-id-1 label.sk-toggleable__label-arrow:hover:before {color: black;}#sk-container-id-1 div.sk-estimator:hover label.sk-toggleable__label-arrow:before {color: black;}#sk-container-id-1 div.sk-toggleable__content {max-height: 0;max-width: 0;overflow: hidden;text-align: left;background-color: #f0f8ff;}#sk-container-id-1 div.sk-toggleable__content pre {margin: 0.2em;color: black;border-radius: 0.25em;background-color: #f0f8ff;}#sk-container-id-1 input.sk-toggleable__control:checked~div.sk-toggleable__content {max-height: 200px;max-width: 100%;overflow: auto;}#sk-container-id-1 input.sk-toggleable__control:checked~label.sk-toggleable__label-arrow:before {content: \"▾\";}#sk-container-id-1 div.sk-estimator input.sk-toggleable__control:checked~label.sk-toggleable__label {background-color: #d4ebff;}#sk-container-id-1 div.sk-label input.sk-toggleable__control:checked~label.sk-toggleable__label {background-color: #d4ebff;}#sk-container-id-1 input.sk-hidden--visually {border: 0;clip: rect(1px 1px 1px 1px);clip: rect(1px, 1px, 1px, 1px);height: 1px;margin: -1px;overflow: hidden;padding: 0;position: absolute;width: 1px;}#sk-container-id-1 div.sk-estimator {font-family: monospace;background-color: #f0f8ff;border: 1px dotted black;border-radius: 0.25em;box-sizing: border-box;margin-bottom: 0.5em;}#sk-container-id-1 div.sk-estimator:hover {background-color: #d4ebff;}#sk-container-id-1 div.sk-parallel-item::after {content: \"\";width: 100%;border-bottom: 1px solid gray;flex-grow: 1;}#sk-container-id-1 div.sk-label:hover label.sk-toggleable__label {background-color: #d4ebff;}#sk-container-id-1 div.sk-serial::before {content: \"\";position: absolute;border-left: 1px solid gray;box-sizing: border-box;top: 0;bottom: 0;left: 50%;z-index: 0;}#sk-container-id-1 div.sk-serial {display: flex;flex-direction: column;align-items: center;background-color: white;padding-right: 0.2em;padding-left: 0.2em;position: relative;}#sk-container-id-1 div.sk-item {position: relative;z-index: 1;}#sk-container-id-1 div.sk-parallel {display: flex;align-items: stretch;justify-content: center;background-color: white;position: relative;}#sk-container-id-1 div.sk-item::before, #sk-container-id-1 div.sk-parallel-item::before {content: \"\";position: absolute;border-left: 1px solid gray;box-sizing: border-box;top: 0;bottom: 0;left: 50%;z-index: -1;}#sk-container-id-1 div.sk-parallel-item {display: flex;flex-direction: column;z-index: 1;position: relative;background-color: white;}#sk-container-id-1 div.sk-parallel-item:first-child::after {align-self: flex-end;width: 50%;}#sk-container-id-1 div.sk-parallel-item:last-child::after {align-self: flex-start;width: 50%;}#sk-container-id-1 div.sk-parallel-item:only-child::after {width: 0;}#sk-container-id-1 div.sk-dashed-wrapped {border: 1px dashed gray;margin: 0 0.4em 0.5em 0.4em;box-sizing: border-box;padding-bottom: 0.4em;background-color: white;}#sk-container-id-1 div.sk-label label {font-family: monospace;font-weight: bold;display: inline-block;line-height: 1.2em;}#sk-container-id-1 div.sk-label-container {text-align: center;}#sk-container-id-1 div.sk-container {/* jupyter's `normalize.less` sets `[hidden] { display: none; }` but bootstrap.min.css set `[hidden] { display: none !important; }` so we also need the `!important` here to be able to override the default hidden behavior on the sphinx rendered scikit-learn.org. See: https://github.com/scikit-learn/scikit-learn/issues/21755 */display: inline-block !important;position: relative;}#sk-container-id-1 div.sk-text-repr-fallback {display: none;}</style><div id=\"sk-container-id-1\" class=\"sk-top-container\"><div class=\"sk-text-repr-fallback\"><pre>LogisticRegression(C=1, max_iter=1000)</pre><b>In a Jupyter environment, please rerun this cell to show the HTML representation or trust the notebook. <br />On GitHub, the HTML representation is unable to render, please try loading this page with nbviewer.org.</b></div><div class=\"sk-container\" hidden><div class=\"sk-item\"><div class=\"sk-estimator sk-toggleable\"><input class=\"sk-toggleable__control sk-hidden--visually\" id=\"sk-estimator-id-1\" type=\"checkbox\" checked><label for=\"sk-estimator-id-1\" class=\"sk-toggleable__label sk-toggleable__label-arrow\">LogisticRegression</label><div class=\"sk-toggleable__content\"><pre>LogisticRegression(C=1, max_iter=1000)</pre></div></div></div></div></div>"
            ]
          },
          "metadata": {},
          "execution_count": 8
        }
      ]
    },
    {
      "cell_type": "markdown",
      "source": [
        "7. **Validation croisée**"
      ],
      "metadata": {
        "id": "Vq-51WbrQBSA"
      }
    },
    {
      "cell_type": "code",
      "source": [
        "# Validation croisée\n",
        "cv_scores = cross_val_score(best_lr_model, X_train, y_train, cv=5)\n",
        "print(\"Cross-validation scores:\", cv_scores)\n",
        "print(\"Mean cross-validation score:\", np.mean(cv_scores))\n",
        "\n",
        "# Évaluation du modèle sur l'ensemble de validation\n",
        "y_val_pred = best_lr_model.predict(X_val)\n",
        "print(\"Accuracy on validation set:\", accuracy_score(y_val, y_val_pred))\n",
        "print(\"Classification report on validation set:\\n\", classification_report(y_val, y_val_pred))\n",
        "print(\"Confusion matrix on validation set:\\n\", confusion_matrix(y_val, y_val_pred))\n"
      ],
      "metadata": {
        "colab": {
          "base_uri": "https://localhost:8080/"
        },
        "id": "tHcLgkCIQC_8",
        "outputId": "ae975c75-3a7c-4d03-eef4-9f888c7882d2"
      },
      "execution_count": 9,
      "outputs": [
        {
          "output_type": "stream",
          "name": "stdout",
          "text": [
            "Cross-validation scores: [0.99173554 0.95041322 0.97520661 0.97520661 0.98333333]\n",
            "Mean cross-validation score: 0.9751790633608814\n",
            "Accuracy on validation set: 0.9769230769230769\n",
            "Classification report on validation set:\n",
            "               precision    recall  f1-score   support\n",
            "\n",
            "           0       0.99      0.98      0.99       112\n",
            "           1       0.89      0.94      0.92        18\n",
            "\n",
            "    accuracy                           0.98       130\n",
            "   macro avg       0.94      0.96      0.95       130\n",
            "weighted avg       0.98      0.98      0.98       130\n",
            "\n",
            "Confusion matrix on validation set:\n",
            " [[110   2]\n",
            " [  1  17]]\n"
          ]
        }
      ]
    },
    {
      "cell_type": "markdown",
      "source": [
        "8. **Random_Forest**"
      ],
      "metadata": {
        "id": "VB9MrLtEQDm3"
      }
    },
    {
      "cell_type": "code",
      "source": [
        "# Entraînement d'un modèle de forêt aléatoire pour comparer\n",
        "rf_model = RandomForestClassifier(random_state=42)\n",
        "rf_model.fit(X_train, y_train)\n",
        "y_val_pred_rf = rf_model.predict(X_val)\n",
        "print(\"Accuracy on validation set (Random Forest):\", accuracy_score(y_val, y_val_pred_rf))\n"
      ],
      "metadata": {
        "colab": {
          "base_uri": "https://localhost:8080/"
        },
        "id": "rVIixp2sQGBh",
        "outputId": "8854b2c2-a9c9-4160-bf04-d3a60316ce83"
      },
      "execution_count": 10,
      "outputs": [
        {
          "output_type": "stream",
          "name": "stdout",
          "text": [
            "Accuracy on validation set (Random Forest): 0.9846153846153847\n"
          ]
        }
      ]
    },
    {
      "cell_type": "markdown",
      "source": [
        "9. **Réseau de neurones**"
      ],
      "metadata": {
        "id": "KuAfixi3QGf3"
      }
    },
    {
      "cell_type": "code",
      "source": [
        "# Création du modèle Keras\n",
        "model = Sequential([\n",
        "    Dense(64, input_dim=X_train.shape[1], activation='relu'),\n",
        "    Dense(32, activation='relu'),\n",
        "    Dense(1, activation='sigmoid')\n",
        "])\n",
        "\n",
        "# Compilation du modèle\n",
        "model.compile(loss='binary_crossentropy', optimizer='adam', metrics=['accuracy'])\n",
        "\n",
        "# Entraînement du modèle\n",
        "history = model.fit(X_train, y_train, epochs=20, batch_size=64, validation_data=(X_val, y_val))\n",
        "\n",
        "# Affichage des courbes d'apprentissage\n",
        "plt.plot(history.history['loss'], label='train_loss')\n",
        "plt.plot(history.history['val_loss'], label='val_loss')\n",
        "plt.title('Model Loss')\n",
        "plt.xlabel('Epochs')\n",
        "plt.ylabel('Loss')\n",
        "plt.legend()\n",
        "plt.show()\n",
        "\n",
        "plt.plot(history.history['accuracy'], label='train_accuracy')\n",
        "plt.plot(history.history['val_accuracy'], label='val_accuracy')\n",
        "plt.title('Model Accuracy')\n",
        "plt.xlabel('Epochs')\n",
        "plt.ylabel('Accuracy')\n",
        "plt.legend()\n",
        "plt.show()"
      ],
      "metadata": {
        "colab": {
          "base_uri": "https://localhost:8080/",
          "height": 1000
        },
        "id": "QeaYVyqwQI1L",
        "outputId": "7e3f8552-2541-4f70-d7a2-74b72a9f5863"
      },
      "execution_count": 11,
      "outputs": [
        {
          "output_type": "stream",
          "name": "stdout",
          "text": [
            "Epoch 1/20\n",
            "10/10 [==============================] - 7s 233ms/step - loss: 0.7729 - accuracy: 0.4056 - val_loss: 0.6374 - val_accuracy: 0.7692\n",
            "Epoch 2/20\n",
            "10/10 [==============================] - 0s 27ms/step - loss: 0.5436 - accuracy: 0.8725 - val_loss: 0.4747 - val_accuracy: 0.9000\n",
            "Epoch 3/20\n",
            "10/10 [==============================] - 0s 23ms/step - loss: 0.4033 - accuracy: 0.9371 - val_loss: 0.3622 - val_accuracy: 0.9231\n",
            "Epoch 4/20\n",
            "10/10 [==============================] - 0s 33ms/step - loss: 0.3025 - accuracy: 0.9387 - val_loss: 0.2773 - val_accuracy: 0.9231\n",
            "Epoch 5/20\n",
            "10/10 [==============================] - 0s 31ms/step - loss: 0.2251 - accuracy: 0.9536 - val_loss: 0.2140 - val_accuracy: 0.9462\n",
            "Epoch 6/20\n",
            "10/10 [==============================] - 0s 42ms/step - loss: 0.1701 - accuracy: 0.9719 - val_loss: 0.1711 - val_accuracy: 0.9462\n",
            "Epoch 7/20\n",
            "10/10 [==============================] - 0s 29ms/step - loss: 0.1327 - accuracy: 0.9752 - val_loss: 0.1424 - val_accuracy: 0.9692\n",
            "Epoch 8/20\n",
            "10/10 [==============================] - 0s 18ms/step - loss: 0.1076 - accuracy: 0.9752 - val_loss: 0.1224 - val_accuracy: 0.9615\n",
            "Epoch 9/20\n",
            "10/10 [==============================] - 0s 25ms/step - loss: 0.0898 - accuracy: 0.9785 - val_loss: 0.1056 - val_accuracy: 0.9769\n",
            "Epoch 10/20\n",
            "10/10 [==============================] - 0s 36ms/step - loss: 0.0769 - accuracy: 0.9785 - val_loss: 0.0945 - val_accuracy: 0.9769\n",
            "Epoch 11/20\n",
            "10/10 [==============================] - 0s 22ms/step - loss: 0.0678 - accuracy: 0.9785 - val_loss: 0.0854 - val_accuracy: 0.9846\n",
            "Epoch 12/20\n",
            "10/10 [==============================] - 0s 33ms/step - loss: 0.0604 - accuracy: 0.9801 - val_loss: 0.0796 - val_accuracy: 0.9846\n",
            "Epoch 13/20\n",
            "10/10 [==============================] - 0s 23ms/step - loss: 0.0546 - accuracy: 0.9834 - val_loss: 0.0753 - val_accuracy: 0.9769\n",
            "Epoch 14/20\n",
            "10/10 [==============================] - 0s 26ms/step - loss: 0.0500 - accuracy: 0.9834 - val_loss: 0.0720 - val_accuracy: 0.9769\n",
            "Epoch 15/20\n",
            "10/10 [==============================] - 0s 22ms/step - loss: 0.0462 - accuracy: 0.9851 - val_loss: 0.0684 - val_accuracy: 0.9769\n",
            "Epoch 16/20\n",
            "10/10 [==============================] - 0s 28ms/step - loss: 0.0432 - accuracy: 0.9868 - val_loss: 0.0692 - val_accuracy: 0.9769\n",
            "Epoch 17/20\n",
            "10/10 [==============================] - 0s 22ms/step - loss: 0.0403 - accuracy: 0.9868 - val_loss: 0.0656 - val_accuracy: 0.9769\n",
            "Epoch 18/20\n",
            "10/10 [==============================] - 0s 29ms/step - loss: 0.0375 - accuracy: 0.9868 - val_loss: 0.0639 - val_accuracy: 0.9769\n",
            "Epoch 19/20\n",
            "10/10 [==============================] - 0s 29ms/step - loss: 0.0360 - accuracy: 0.9868 - val_loss: 0.0648 - val_accuracy: 0.9769\n",
            "Epoch 20/20\n",
            "10/10 [==============================] - 0s 26ms/step - loss: 0.0338 - accuracy: 0.9868 - val_loss: 0.0616 - val_accuracy: 0.9846\n"
          ]
        },
        {
          "output_type": "display_data",
          "data": {
            "text/plain": [
              "<Figure size 640x480 with 1 Axes>"
            ],
            "image/png": "[encoded data removed]"
          },
          "metadata": {}
        },
        {
          "output_type": "display_data",
          "data": {
            "text/plain": [
              "<Figure size 640x480 with 1 Axes>"
            ],
            "image/png": "[encoded data removed]"
          },
          "metadata": {}
        }
      ]
    },
    {
      "cell_type": "markdown",
      "source": [
        "10."
      ],
      "metadata": {
        "id": "le3nESFBQJQd"
      }
    },
    {
      "cell_type": "code",
      "source": [],
      "metadata": {
        "id": "_9zDGc6VQM91"
      },
      "execution_count": null,
      "outputs": []
    }
  ]
}