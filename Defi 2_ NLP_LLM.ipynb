{
 "cells": [
  {
   "cell_type": "markdown",
   "metadata": {
    "id": "IeKsHGz57wy-"
   },
   "source": [
    "# library"
   ]
  },
  {
   "cell_type": "code",
   "execution_count": 32,
   "metadata": {
    "id": "aZpWjOL77yt-"
   },
   "outputs": [],
   "source": [
    "import pandas as pd\n",
    "import numpy as np\n",
    "import requests\n",
    "from io import StringIO\n",
    "\n",
    "from sklearn.model_selection import train_test_split\n",
    "from sklearn.preprocessing import LabelEncoder\n",
    "from tensorflow.keras.preprocessing.text import Tokenizer\n",
    "from tensorflow.keras.preprocessing.sequence import pad_sequences\n",
    "from tensorflow.keras.models import Sequential\n",
    "from tensorflow.keras.layers import Embedding, Dense, GlobalAveragePooling1D, LSTM\n",
    "from sklearn.metrics import accuracy_score, precision_score, recall_score, f1_score, confusion_matrix, classification_report\n",
    "from sklearn.metrics import roc_curve, auc\n",
    "import seaborn as sns\n",
    "import matplotlib.pyplot as plt"
   ]
  },
  {
   "cell_type": "markdown",
   "metadata": {
    "id": "8Luobr_K7niM"
   },
   "source": [
    "# import data"
   ]
  },
  {
   "cell_type": "code",
   "execution_count": 12,
   "metadata": {
    "colab": {
     "base_uri": "https://localhost:8080/",
     "height": 206
    },
    "id": "app3sNOv7q6p",
    "outputId": "ba968f43-3564-44f9-9ba3-bc302d7ea026"
   },
   "outputs": [
    {
     "data": {
      "text/html": [
       "<div>\n",
       "<style scoped>\n",
       "    .dataframe tbody tr th:only-of-type {\n",
       "        vertical-align: middle;\n",
       "    }\n",
       "\n",
       "    .dataframe tbody tr th {\n",
       "        vertical-align: top;\n",
       "    }\n",
       "\n",
       "    .dataframe thead th {\n",
       "        text-align: right;\n",
       "    }\n",
       "</style>\n",
       "<table border=\"1\" class=\"dataframe\">\n",
       "  <thead>\n",
       "    <tr style=\"text-align: right;\">\n",
       "      <th></th>\n",
       "      <th>Libellé.Prescription</th>\n",
       "      <th>Avis.Pharmaceutique</th>\n",
       "      <th>PLT</th>\n",
       "      <th>IP_1</th>\n",
       "      <th>IP_2</th>\n",
       "    </tr>\n",
       "  </thead>\n",
       "  <tbody>\n",
       "    <tr>\n",
       "      <th>0</th>\n",
       "      <td>CONTRAMAL 100 MG/ML, GOUTTES BUV (TRAMADOL)</td>\n",
       "      <td>30/12/16 pas d'indication</td>\n",
       "      <td>5.3</td>\n",
       "      <td>1</td>\n",
       "      <td>5</td>\n",
       "    </tr>\n",
       "    <tr>\n",
       "      <th>1</th>\n",
       "      <td>IMOVANE 7.5 MG, CPR SÉCABLE (ZOPICLONE)</td>\n",
       "      <td>22/12/16 recommandé -&gt; IMOVANE 3,75MG CP, 1 au...</td>\n",
       "      <td>4.1</td>\n",
       "      <td>1</td>\n",
       "      <td>4</td>\n",
       "    </tr>\n",
       "    <tr>\n",
       "      <th>2</th>\n",
       "      <td>COLCHICINE 1 MG, CPR SÉCABLE (COLCHICINE)</td>\n",
       "      <td>au vue de la DFG, il est recommandé d'administ...</td>\n",
       "      <td>4.1</td>\n",
       "      <td>1</td>\n",
       "      <td>4</td>\n",
       "    </tr>\n",
       "    <tr>\n",
       "      <th>3</th>\n",
       "      <td>PANTOPRAZOLE 40 MG, CPR GASTRO-RÉSISTANT (EUPA...</td>\n",
       "      <td>Dose curative et absence d'ATCD gastrique retr...</td>\n",
       "      <td>4.1</td>\n",
       "      <td>1</td>\n",
       "      <td>4</td>\n",
       "    </tr>\n",
       "    <tr>\n",
       "      <th>4</th>\n",
       "      <td>VANCOMYCINE 500 mg 1x/j</td>\n",
       "      <td>posologie infraT veuillez réévaluer la posolog...</td>\n",
       "      <td>3.1</td>\n",
       "      <td>0</td>\n",
       "      <td>3</td>\n",
       "    </tr>\n",
       "  </tbody>\n",
       "</table>\n",
       "</div>"
      ],
      "text/plain": [
       "0                               Libellé.Prescription  ... IP_2\n",
       "0        CONTRAMAL 100 MG/ML, GOUTTES BUV (TRAMADOL)  ...    5\n",
       "1            IMOVANE 7.5 MG, CPR SÉCABLE (ZOPICLONE)  ...    4\n",
       "2          COLCHICINE 1 MG, CPR SÉCABLE (COLCHICINE)  ...    4\n",
       "3  PANTOPRAZOLE 40 MG, CPR GASTRO-RÉSISTANT (EUPA...  ...    4\n",
       "4                            VANCOMYCINE 500 mg 1x/j  ...    3\n",
       "\n",
       "[5 rows x 5 columns]"
      ]
     },
     "metadata": {},
     "output_type": "display_data"
    }
   ],
   "source": [
    "lien_csv = \"https://raw.githubusercontent.com/pierrebeguin/Master_2_defi_2/main/data_defi_2.csv\"\n",
    "response = requests.get(lien_csv)\n",
    "data = pd.read_csv(StringIO(response.text), sep=\";\")\n",
    "\n",
    "# supprimer la 1er ligne\n",
    "data.columns = data.iloc[0]\n",
    "data = data.iloc[1:].reset_index(drop=True)\n",
    "\n",
    "# Suppression des lignes où la colonne 'Avis.Pharmaceutique' est vide\n",
    "data = data.dropna(subset=['Avis.Pharmaceutique'])\n",
    "\n",
    "# Créer les colonnes IP_1 et IP_2\n",
    "data['PLT'] = pd.to_numeric(data['PLT'], errors='coerce')\n",
    "data['IP_1'] = np.where(data['PLT'].isin([4.1, 4.2, 5.1, 5.2, 5.3, 6.3, 6.4]), 1, 0)\n",
    "data['IP_2'] = np.floor(data['PLT']).astype(int)\n",
    "\n",
    "display(data.head())"
   ]
  },
  {
   "cell_type": "code",
   "execution_count": 16,
   "metadata": {
    "colab": {
     "base_uri": "https://localhost:8080/",
     "height": 178
    },
    "id": "rDWFku_YZP7R",
    "outputId": "2b877197-4d31-4a07-d3be-c489305e8a06"
   },
   "outputs": [
    {
     "data": {
      "text/plain": [
       "IP_1\n",
       "0    18613\n",
       "1     4528\n",
       "dtype: int64"
      ]
     },
     "execution_count": 16,
     "metadata": {},
     "output_type": "execute_result"
    }
   ],
   "source": [
    "data.groupby('IP_1').size()\n",
    "#data.shape"
   ]
  },
  {
   "cell_type": "markdown",
   "metadata": {
    "id": "9K1OQB1V_EiC"
   },
   "source": [
    "# Préparation_1"
   ]
  },
  {
   "cell_type": "code",
   "execution_count": 18,
   "metadata": {
    "id": "-4vsxiMmmwB_"
   },
   "outputs": [],
   "source": [
    "# définir X et y\n",
    "X = data['Avis.Pharmaceutique']\n",
    "y = data['IP_1']\n",
    "\n",
    "# Divisez les données en ensembles d'entraînement et de test\n",
    "X_train, X_test, y_train, y_test = train_test_split(X, y, test_size=0.2, random_state = 42, stratify=y)\n",
    "\n",
    "# Paramètres de tokenisation\n",
    "max_words = 10000\n",
    "max_len = 100\n",
    "\n",
    "# Initialiser le tokenizer\n",
    "tokenizer = Tokenizer()\n",
    "tokenizer.fit_on_texts(X_train)\n",
    "\n",
    "# Convertir les textes en séquences de tokens\n",
    "X_train = tokenizer.texts_to_sequences(X_train)\n",
    "X_test = tokenizer.texts_to_sequences(X_test)\n",
    "\n",
    "# Ajouter du padding pour uniformiser la longueur des séquences\n",
    "X_train = pad_sequences(X_train, padding='post')\n",
    "X_test = pad_sequences(X_test, padding='post')"
   ]
  },
  {
   "cell_type": "markdown",
   "metadata": {
    "id": "9Xx7pb_cmOfn"
   },
   "source": [
    "# Modèle_1"
   ]
  },
  {
   "cell_type": "code",
   "execution_count": 20,
   "metadata": {
    "colab": {
     "base_uri": "https://localhost:8080/"
    },
    "id": "VsniQ-f1m4sv",
    "outputId": "7aac683e-e376-4d6c-e5d9-6d79108ed947"
   },
   "outputs": [
    {
     "name": "stdout",
     "output_type": "stream",
     "text": [
      "Epoch 1/10\n"
     ]
    },
    {
     "name": "stderr",
     "output_type": "stream",
     "text": [
      "C:\\Users\\mamad\\anaconda3\\Lib\\site-packages\\keras\\src\\layers\\core\\embedding.py:90: UserWarning: Argument `input_length` is deprecated. Just remove it.\n",
      "  warnings.warn(\n"
     ]
    },
    {
     "name": "stdout",
     "output_type": "stream",
     "text": [
      "\u001b[1m579/579\u001b[0m \u001b[32m━━━━━━━━━━━━━━━━━━━━\u001b[0m\u001b[37m\u001b[0m \u001b[1m2s\u001b[0m 2ms/step - accuracy: 0.7986 - loss: 0.5004 - val_accuracy: 0.8127 - val_loss: 0.3882\n",
      "Epoch 2/10\n",
      "\u001b[1m579/579\u001b[0m \u001b[32m━━━━━━━━━━━━━━━━━━━━\u001b[0m\u001b[37m\u001b[0m \u001b[1m1s\u001b[0m 1ms/step - accuracy: 0.8251 - loss: 0.3768 - val_accuracy: 0.8743 - val_loss: 0.2941\n",
      "Epoch 3/10\n",
      "\u001b[1m579/579\u001b[0m \u001b[32m━━━━━━━━━━━━━━━━━━━━\u001b[0m\u001b[37m\u001b[0m \u001b[1m1s\u001b[0m 1ms/step - accuracy: 0.8741 - loss: 0.2929 - val_accuracy: 0.8941 - val_loss: 0.2567\n",
      "Epoch 4/10\n",
      "\u001b[1m579/579\u001b[0m \u001b[32m━━━━━━━━━━━━━━━━━━━━\u001b[0m\u001b[37m\u001b[0m \u001b[1m1s\u001b[0m 1ms/step - accuracy: 0.8941 - loss: 0.2531 - val_accuracy: 0.9000 - val_loss: 0.2375\n",
      "Epoch 5/10\n",
      "\u001b[1m579/579\u001b[0m \u001b[32m━━━━━━━━━━━━━━━━━━━━\u001b[0m\u001b[37m\u001b[0m \u001b[1m1s\u001b[0m 1ms/step - accuracy: 0.9047 - loss: 0.2297 - val_accuracy: 0.9093 - val_loss: 0.2191\n",
      "Epoch 6/10\n",
      "\u001b[1m579/579\u001b[0m \u001b[32m━━━━━━━━━━━━━━━━━━━━\u001b[0m\u001b[37m\u001b[0m \u001b[1m1s\u001b[0m 1ms/step - accuracy: 0.9142 - loss: 0.2151 - val_accuracy: 0.9078 - val_loss: 0.2307\n",
      "Epoch 7/10\n",
      "\u001b[1m579/579\u001b[0m \u001b[32m━━━━━━━━━━━━━━━━━━━━\u001b[0m\u001b[37m\u001b[0m \u001b[1m1s\u001b[0m 1ms/step - accuracy: 0.9253 - loss: 0.1920 - val_accuracy: 0.9145 - val_loss: 0.2092\n",
      "Epoch 8/10\n",
      "\u001b[1m579/579\u001b[0m \u001b[32m━━━━━━━━━━━━━━━━━━━━\u001b[0m\u001b[37m\u001b[0m \u001b[1m1s\u001b[0m 1ms/step - accuracy: 0.9292 - loss: 0.1814 - val_accuracy: 0.9216 - val_loss: 0.2048\n",
      "Epoch 9/10\n",
      "\u001b[1m579/579\u001b[0m \u001b[32m━━━━━━━━━━━━━━━━━━━━\u001b[0m\u001b[37m\u001b[0m \u001b[1m1s\u001b[0m 1ms/step - accuracy: 0.9352 - loss: 0.1731 - val_accuracy: 0.9229 - val_loss: 0.2002\n",
      "Epoch 10/10\n",
      "\u001b[1m579/579\u001b[0m \u001b[32m━━━━━━━━━━━━━━━━━━━━\u001b[0m\u001b[37m\u001b[0m \u001b[1m1s\u001b[0m 1ms/step - accuracy: 0.9383 - loss: 0.1642 - val_accuracy: 0.9211 - val_loss: 0.2011\n"
     ]
    },
    {
     "data": {
      "text/plain": [
       "<keras.src.callbacks.history.History at 0x276db7d3ef0>"
      ]
     },
     "execution_count": 20,
     "metadata": {},
     "output_type": "execute_result"
    }
   ],
   "source": [
    "# Création du modèle de réseau de neurones\n",
    "model_1 = Sequential([\n",
    "    Embedding(input_dim=max_words, output_dim=16, input_length=max_len),\n",
    "    GlobalAveragePooling1D(),\n",
    "    Dense(16, activation='relu'),\n",
    "    Dense(1, activation='sigmoid')\n",
    "])\n",
    "\n",
    "# Compilation du modèle\n",
    "model_1.compile(optimizer='adam', loss='binary_crossentropy', metrics=['accuracy'])\n",
    "\n",
    "# Entraînement du modèle\n",
    "model_1.fit(X_train, y_train, epochs=10, batch_size=32, validation_data=(X_test, y_test))"
   ]
  },
  {
   "cell_type": "markdown",
   "metadata": {
    "id": "u-Ncql2WbLz-"
   },
   "source": [
    "# Evaluation_1"
   ]
  },
  {
   "cell_type": "code",
   "execution_count": 22,
   "metadata": {
    "colab": {
     "base_uri": "https://localhost:8080/"
    },
    "id": "ZM21qHdUrP99",
    "outputId": "819085a8-26de-4c23-c1cc-c7f964fa9fff"
   },
   "outputs": [
    {
     "name": "stdout",
     "output_type": "stream",
     "text": [
      "\u001b[1m145/145\u001b[0m \u001b[32m━━━━━━━━━━━━━━━━━━━━\u001b[0m\u001b[37m\u001b[0m \u001b[1m0s\u001b[0m 900us/step\n",
      "Accuracy : 0.92\n",
      "Precision: 0.79\n",
      "Recall   : 0.80\n",
      "F1 Score : 0.80\n",
      "\n",
      "Matrice de confusion :\n",
      " [[3535  188]\n",
      " [ 177  729]]\n",
      "\n",
      "Classification Report :\n",
      "               precision    recall  f1-score   support\n",
      "\n",
      "           0       0.95      0.95      0.95      3723\n",
      "           1       0.79      0.80      0.80       906\n",
      "\n",
      "    accuracy                           0.92      4629\n",
      "   macro avg       0.87      0.88      0.88      4629\n",
      "weighted avg       0.92      0.92      0.92      4629\n",
      "\n"
     ]
    }
   ],
   "source": [
    "# Prédictions sur les données de test\n",
    "y_pred_proba = model_1.predict(X_test)\n",
    "y_pred = (y_pred_proba > 0.5).astype(\"int32\").flatten()\n",
    "\n",
    "# Calcul des métriques\n",
    "accuracy = accuracy_score(y_test, y_pred)\n",
    "precision = precision_score(y_test, y_pred)\n",
    "recall = recall_score(y_test, y_pred)\n",
    "f1 = f1_score(y_test, y_pred)\n",
    "conf_matrix = confusion_matrix(y_test, y_pred)\n",
    "class_report = classification_report(y_test, y_pred)\n",
    "\n",
    "# Afficher les résultats\n",
    "print(f\"Accuracy : {accuracy:.2f}\")\n",
    "print(f\"Precision: {precision:.2f}\")\n",
    "print(f\"Recall   : {recall:.2f}\")\n",
    "print(f\"F1 Score : {f1:.2f}\")\n",
    "print(\"\\nMatrice de confusion :\\n\", conf_matrix)\n",
    "print(\"\\nClassification Report :\\n\", class_report)"
   ]
  },
  {
   "cell_type": "code",
   "execution_count": 8,
   "metadata": {
    "colab": {
     "base_uri": "https://localhost:8080/",
     "height": 489
    },
    "id": "JuX3FcPLey9C",
    "outputId": "c67991da-9099-4c46-b67c-5f54e0a25cf2"
   },
   "outputs": [
    {
     "name": "stdout",
     "output_type": "stream",
     "text": [
      "\u001b[1m145/145\u001b[0m \u001b[32m━━━━━━━━━━━━━━━━━━━━\u001b[0m\u001b[37m\u001b[0m \u001b[1m0s\u001b[0m 1ms/step\n"
     ]
    },
    {
     "data": {
      "image/png": "[encoded data removed]",
      "text/plain": [
       "<Figure size 640x480 with 1 Axes>"
      ]
     },
     "metadata": {},
     "output_type": "display_data"
    }
   ],
   "source": [
    "y_pred_proba = model_1.predict(X_test).ravel()\n",
    "fpr, tpr, thresholds = roc_curve(y_test, y_pred_proba)\n",
    "roc_auc = auc(fpr, tpr)\n",
    "\n",
    "plt.figure()\n",
    "plt.plot(fpr, tpr, color='blue', label=f'Courbe ROC (AUC = {roc_auc:.2f})')\n",
    "plt.plot([0, 1], [0, 1], color='gray', linestyle='--')\n",
    "plt.xlim([0.0, 1.0])\n",
    "plt.ylim([0.0, 1.0])\n",
    "plt.xlabel('Taux de Faux Positifs (FPR)')\n",
    "plt.ylabel('Taux de Vrais Positifs (TPR)')\n",
    "plt.title('Courbe ROC')\n",
    "plt.legend(loc=\"lower right\")\n",
    "plt.show()"
   ]
  },
  {
   "cell_type": "markdown",
   "metadata": {
    "id": "D6ZoYOZcX6v0"
   },
   "source": [
    "# Préparation_2"
   ]
  },
  {
   "cell_type": "code",
   "execution_count": 24,
   "metadata": {
    "id": "u2kviBEBX8li"
   },
   "outputs": [],
   "source": [
    "# définir X et y\n",
    "X = data['Avis.Pharmaceutique']\n",
    "y = data['IP_2']\n",
    "\n",
    "# Divisez les données en ensembles d'entraînement et de test\n",
    "X_train, X_test, y_train, y_test = train_test_split(X, y, test_size=0.2, random_state = 42, stratify=y)\n",
    "\n",
    "# Paramètres de tokenisation\n",
    "max_words = 10000\n",
    "max_len = 100\n",
    "\n",
    "# Initialiser le tokenizer\n",
    "tokenizer = Tokenizer()\n",
    "tokenizer.fit_on_texts(X_train)\n",
    "\n",
    "# Convertir les textes en séquences de tokens\n",
    "X_train = tokenizer.texts_to_sequences(X_train)\n",
    "X_test = tokenizer.texts_to_sequences(X_test)\n",
    "\n",
    "# Ajouter du padding pour uniformiser la longueur des séquences\n",
    "X_train = pad_sequences(X_train, padding='post')\n",
    "X_test = pad_sequences(X_test, padding='post')"
   ]
  },
  {
   "cell_type": "markdown",
   "metadata": {
    "id": "vm4ENPqKZDS9"
   },
   "source": [
    "# Modèle_2"
   ]
  },
  {
   "cell_type": "code",
   "execution_count": 26,
   "metadata": {
    "colab": {
     "base_uri": "https://localhost:8080/"
    },
    "id": "600lm4aTZC1r",
    "outputId": "8d91415c-878c-491d-b565-8405e04b8fbb"
   },
   "outputs": [
    {
     "name": "stdout",
     "output_type": "stream",
     "text": [
      "Epoch 1/10\n"
     ]
    },
    {
     "name": "stderr",
     "output_type": "stream",
     "text": [
      "C:\\Users\\mamad\\anaconda3\\Lib\\site-packages\\keras\\src\\layers\\core\\embedding.py:90: UserWarning: Argument `input_length` is deprecated. Just remove it.\n",
      "  warnings.warn(\n"
     ]
    },
    {
     "name": "stdout",
     "output_type": "stream",
     "text": [
      "\u001b[1m579/579\u001b[0m \u001b[32m━━━━━━━━━━━━━━━━━━━━\u001b[0m\u001b[37m\u001b[0m \u001b[1m10s\u001b[0m 14ms/step - accuracy: 0.5035 - loss: 1.6294 - val_accuracy: 0.6129 - val_loss: 1.1470\n",
      "Epoch 2/10\n",
      "\u001b[1m579/579\u001b[0m \u001b[32m━━━━━━━━━━━━━━━━━━━━\u001b[0m\u001b[37m\u001b[0m \u001b[1m9s\u001b[0m 15ms/step - accuracy: 0.6323 - loss: 1.0961 - val_accuracy: 0.6124 - val_loss: 1.1334\n",
      "Epoch 3/10\n",
      "\u001b[1m579/579\u001b[0m \u001b[32m━━━━━━━━━━━━━━━━━━━━\u001b[0m\u001b[37m\u001b[0m \u001b[1m10s\u001b[0m 17ms/step - accuracy: 0.6754 - loss: 0.9935 - val_accuracy: 0.6734 - val_loss: 1.0217\n",
      "Epoch 4/10\n",
      "\u001b[1m579/579\u001b[0m \u001b[32m━━━━━━━━━━━━━━━━━━━━\u001b[0m\u001b[37m\u001b[0m \u001b[1m10s\u001b[0m 18ms/step - accuracy: 0.7153 - loss: 0.8662 - val_accuracy: 0.7148 - val_loss: 0.8884\n",
      "Epoch 5/10\n",
      "\u001b[1m579/579\u001b[0m \u001b[32m━━━━━━━━━━━━━━━━━━━━\u001b[0m\u001b[37m\u001b[0m \u001b[1m9s\u001b[0m 15ms/step - accuracy: 0.7762 - loss: 0.6852 - val_accuracy: 0.7192 - val_loss: 0.8507\n",
      "Epoch 6/10\n",
      "\u001b[1m579/579\u001b[0m \u001b[32m━━━━━━━━━━━━━━━━━━━━\u001b[0m\u001b[37m\u001b[0m \u001b[1m8s\u001b[0m 15ms/step - accuracy: 0.8092 - loss: 0.5875 - val_accuracy: 0.7457 - val_loss: 0.7631\n",
      "Epoch 7/10\n",
      "\u001b[1m579/579\u001b[0m \u001b[32m━━━━━━━━━━━━━━━━━━━━\u001b[0m\u001b[37m\u001b[0m \u001b[1m9s\u001b[0m 15ms/step - accuracy: 0.8223 - loss: 0.5325 - val_accuracy: 0.7425 - val_loss: 0.7853\n",
      "Epoch 8/10\n",
      "\u001b[1m579/579\u001b[0m \u001b[32m━━━━━━━━━━━━━━━━━━━━\u001b[0m\u001b[37m\u001b[0m \u001b[1m8s\u001b[0m 15ms/step - accuracy: 0.8549 - loss: 0.4580 - val_accuracy: 0.7576 - val_loss: 0.7777\n",
      "Epoch 9/10\n",
      "\u001b[1m579/579\u001b[0m \u001b[32m━━━━━━━━━━━━━━━━━━━━\u001b[0m\u001b[37m\u001b[0m \u001b[1m9s\u001b[0m 15ms/step - accuracy: 0.8670 - loss: 0.4184 - val_accuracy: 0.7596 - val_loss: 0.7911\n",
      "Epoch 10/10\n",
      "\u001b[1m579/579\u001b[0m \u001b[32m━━━━━━━━━━━━━━━━━━━━\u001b[0m\u001b[37m\u001b[0m \u001b[1m8s\u001b[0m 15ms/step - accuracy: 0.8809 - loss: 0.3850 - val_accuracy: 0.7645 - val_loss: 0.7984\n"
     ]
    },
    {
     "data": {
      "text/plain": [
       "<keras.src.callbacks.history.History at 0x276dd40ce30>"
      ]
     },
     "execution_count": 26,
     "metadata": {},
     "output_type": "execute_result"
    }
   ],
   "source": [
    "# Création du modèle de réseau de neurones\n",
    "model_2 = Sequential()\n",
    "model_2.add(Embedding(input_dim=max_words, output_dim=16, input_length=max_len))\n",
    "model_2.add(LSTM(64, return_sequences=True))\n",
    "model_2.add(GlobalAveragePooling1D())\n",
    "model_2.add(Dense(12, activation='softmax'))\n",
    "\n",
    "# Compilation du modèle\n",
    "model_2.compile(loss='sparse_categorical_crossentropy', optimizer='adam', metrics=['accuracy'])\n",
    "\n",
    "# Entraînement du modèle\n",
    "model_2.fit(X_train, y_train, epochs=10, validation_data=(X_test, y_test))"
   ]
  },
  {
   "cell_type": "markdown",
   "metadata": {
    "id": "hE77Fs4mc2Mk"
   },
   "source": [
    "# Evaluation_2"
   ]
  },
  {
   "cell_type": "code",
   "execution_count": 28,
   "metadata": {
    "colab": {
     "base_uri": "https://localhost:8080/"
    },
    "id": "JC5TmwggdQwS",
    "outputId": "ab510300-ec34-4f2f-bfaf-b288f26dc8be"
   },
   "outputs": [
    {
     "name": "stdout",
     "output_type": "stream",
     "text": [
      "\u001b[1m145/145\u001b[0m \u001b[32m━━━━━━━━━━━━━━━━━━━━\u001b[0m\u001b[37m\u001b[0m \u001b[1m1s\u001b[0m 4ms/step\n",
      "Classification Report:\n",
      "              precision    recall  f1-score   support\n",
      "\n",
      "           1       0.88      0.89      0.88      2253\n",
      "           2       0.63      0.67      0.65       151\n",
      "           3       0.34      0.17      0.23       194\n",
      "           4       0.75      0.76      0.76       613\n",
      "           5       0.65      0.48      0.55       166\n",
      "           6       0.72      0.86      0.79       193\n",
      "           7       0.00      0.00      0.00         2\n",
      "           8       0.77      0.71      0.74       589\n",
      "           9       0.00      0.00      0.00         4\n",
      "          10       0.50      0.53      0.52       148\n",
      "          11       0.46      0.60      0.52       316\n",
      "\n",
      "    accuracy                           0.76      4629\n",
      "   macro avg       0.52      0.52      0.51      4629\n",
      "weighted avg       0.76      0.76      0.76      4629\n",
      "\n"
     ]
    },
    {
     "name": "stderr",
     "output_type": "stream",
     "text": [
      "C:\\Users\\mamad\\anaconda3\\Lib\\site-packages\\sklearn\\metrics\\_classification.py:1531: UndefinedMetricWarning: Precision is ill-defined and being set to 0.0 in labels with no predicted samples. Use `zero_division` parameter to control this behavior.\n",
      "  _warn_prf(average, modifier, f\"{metric.capitalize()} is\", len(result))\n",
      "C:\\Users\\mamad\\anaconda3\\Lib\\site-packages\\sklearn\\metrics\\_classification.py:1531: UndefinedMetricWarning: Precision is ill-defined and being set to 0.0 in labels with no predicted samples. Use `zero_division` parameter to control this behavior.\n",
      "  _warn_prf(average, modifier, f\"{metric.capitalize()} is\", len(result))\n",
      "C:\\Users\\mamad\\anaconda3\\Lib\\site-packages\\sklearn\\metrics\\_classification.py:1531: UndefinedMetricWarning: Precision is ill-defined and being set to 0.0 in labels with no predicted samples. Use `zero_division` parameter to control this behavior.\n",
      "  _warn_prf(average, modifier, f\"{metric.capitalize()} is\", len(result))\n"
     ]
    }
   ],
   "source": [
    "# Prédire sur l'ensemble de test\n",
    "y_pred = model_2.predict(X_test)\n",
    "y_pred_classes = np.argmax(y_pred, axis=1)\n",
    "\n",
    "# Évaluation détaillée\n",
    "print(\"Classification Report:\")\n",
    "print(classification_report(y_test, y_pred_classes))"
   ]
  },
  {
   "cell_type": "code",
   "execution_count": 30,
   "metadata": {
    "colab": {
     "base_uri": "https://localhost:8080/",
     "height": 718
    },
    "id": "wHOl_LyNgmUu",
    "outputId": "7cbc12e2-9e54-49c4-9529-0f2803e7febe"
   },
   "outputs": [
    {
     "data": {
      "image/png": "[encoded data removed]",
      "text/plain": [
       "<Figure size 1000x800 with 1 Axes>"
      ]
     },
     "metadata": {},
     "output_type": "display_data"
    }
   ],
   "source": [
    "# Matrice de Confusion\n",
    "conf_matrix = confusion_matrix(y_test, y_pred_classes)\n",
    "\n",
    "plt.figure(figsize=(10, 8))\n",
    "sns.heatmap(conf_matrix, annot=True, fmt=\"d\", cmap=\"Blues\", cbar=False, xticklabels=range(1, 12), yticklabels=range(1, 12))\n",
    "plt.xlabel(\"Prédictions\")\n",
    "plt.ylabel(\"Véritables classes\")\n",
    "plt.title(\"Matrice de Confusion\")\n",
    "plt.show()"
   ]
  },
  {
   "cell_type": "markdown",
   "metadata": {
    "id": "kowyla2N6CtD"
   },
   "source": [
    "# data_test"
   ]
  },
  {
   "cell_type": "code",
   "execution_count": 32,
   "metadata": {
    "id": "qC5LVwSi6D_k"
   },
   "outputs": [],
   "source": [
    "lien_csv_test = \"https://raw.githubusercontent.com/pierrebeguin/Master_2_defi_2/main/valid_set.csv\"\n",
    "response_test = requests.get(lien_csv_test)\n",
    "data_test = pd.read_csv(StringIO(response_test.text), sep=\";\")\n",
    "\n",
    "# Suppression des lignes où la colonne 'avis' est vide\n",
    "data_test = data_test.dropna(subset=['Avis.Pharmaceutique'])"
   ]
  },
  {
   "cell_type": "code",
   "execution_count": 74,
   "metadata": {
    "id": "_Ph3ZfYgIMsV"
   },
   "outputs": [],
   "source": [
    "#data_test.head()"
   ]
  },
  {
   "cell_type": "code",
   "execution_count": 63,
   "metadata": {
    "colab": {
     "base_uri": "https://localhost:8080/"
    },
    "id": "VZPe3dL-6vhO",
    "outputId": "abecc482-30fe-404a-dee5-b25989965544"
   },
   "outputs": [
    {
     "name": "stdout",
     "output_type": "stream",
     "text": [
      "\u001b[1m128/128\u001b[0m \u001b[32m━━━━━━━━━━━━━━━━━━━━\u001b[0m\u001b[37m\u001b[0m \u001b[1m0s\u001b[0m 2ms/step\n",
      "\u001b[1m128/128\u001b[0m \u001b[32m━━━━━━━━━━━━━━━━━━━━\u001b[0m\u001b[37m\u001b[0m \u001b[1m1s\u001b[0m 10ms/step\n"
     ]
    }
   ],
   "source": [
    "### Préparation\n",
    "\n",
    "train = data_test['Avis.Pharmaceutique']\n",
    "tokenizer = Tokenizer()\n",
    "tokenizer.fit_on_texts(train)\n",
    "train = tokenizer.texts_to_sequences(train)\n",
    "train = pad_sequences(train, padding='post')\n",
    "\n",
    "### Model\n",
    "\n",
    "y_pred_1 = model_1.predict(train)\n",
    "y_pred_1 = (y_pred_1 > 0.5).astype(\"int32\").flatten()\n",
    "\n",
    "y_pred_2 = model_2.predict(train)\n",
    "y_pred_2 = np.argmax(y_pred_2, axis=1)\n",
    "\n",
    "### Résultat\n",
    "\n",
    "y_pred_1 = pd.Series(y_pred_1, name=\"Statue\")\n",
    "y_pred_2 = pd.Series(y_pred_2, name=\"Classe\")\n",
    "result = pd.concat([data_test, y_pred_1, y_pred_2], axis=1)"
   ]
  },
  {
   "cell_type": "code",
   "execution_count": 73,
   "metadata": {
    "colab": {
     "base_uri": "https://localhost:8080/",
     "height": 747
    },
    "id": "-CeBBlMGIryn",
    "outputId": "757f857e-4eef-442f-cdcb-6a6730b12d6e"
   },
   "outputs": [
    {
     "data": {
      "application/vnd.google.colaboratory.intrinsic+json": {
       "summary": "{\n  \"name\": \"display(result\",\n  \"rows\": 5,\n  \"fields\": [\n    {\n      \"column\": \"Libell\\u00e9.Prescription\",\n      \"properties\": {\n        \"dtype\": \"string\",\n        \"num_unique_values\": 5,\n        \"samples\": [\n          \"LAMALINE, G\\u00c9LULE\",\n          \"FELODIPINE LP 5 MG SANDOZ, CPR \\u00c0 LIB\\u00c9RATION PROLONG\\u00c9E  \",\n          \"XYZALL 5 MG, CPR\"\n        ],\n        \"semantic_type\": \"\",\n        \"description\": \"\"\n      }\n    },\n    {\n      \"column\": \"Avis.Pharmaceutique\",\n      \"properties\": {\n        \"dtype\": \"string\",\n        \"num_unique_values\": 5,\n        \"samples\": [\n          \"Propose arr\\u00eat pendant hospitalisation ou DOLIPRANE 500 MG GEL, 1 g\\u00e9lule 3 fois par jour, 1 le matin, 1 le midi, 1 le soir   \",\n          \"Non r\\u00e9f\\u00e9renc\\u00e9 aux HUS, Substitu\\u00e9 par amlodipine 5 mg 1 cp/j. AD. 24/03/17\",\n          \"Non r\\u00e9f\\u00e9renc\\u00e9 aux HUS, propose CETIRIZINE 10MG CP, 1 fois par jour en 1 prise le soir \\u00e0 20h00   \"\n        ],\n        \"semantic_type\": \"\",\n        \"description\": \"\"\n      }\n    },\n    {\n      \"column\": \"Statue\",\n      \"properties\": {\n        \"dtype\": \"number\",\n        \"std\": 0.0,\n        \"min\": 0.0,\n        \"max\": 0.0,\n        \"num_unique_values\": 1,\n        \"samples\": [\n          0.0\n        ],\n        \"semantic_type\": \"\",\n        \"description\": \"\"\n      }\n    },\n    {\n      \"column\": \"Classe\",\n      \"properties\": {\n        \"dtype\": \"number\",\n        \"std\": 4.024922359499622,\n        \"min\": 1.0,\n        \"max\": 10.0,\n        \"num_unique_values\": 2,\n        \"samples\": [\n          1.0\n        ],\n        \"semantic_type\": \"\",\n        \"description\": \"\"\n      }\n    }\n  ]\n}",
       "type": "dataframe"
      },
      "text/html": [
       "\n",
       "  <div id=\"df-c2daa609-1c4b-4a24-86bf-b9750aef3830\" class=\"colab-df-container\">\n",
       "    <div>\n",
       "<style scoped>\n",
       "    .dataframe tbody tr th:only-of-type {\n",
       "        vertical-align: middle;\n",
       "    }\n",
       "\n",
       "    .dataframe tbody tr th {\n",
       "        vertical-align: top;\n",
       "    }\n",
       "\n",
       "    .dataframe thead th {\n",
       "        text-align: right;\n",
       "    }\n",
       "</style>\n",
       "<table border=\"1\" class=\"dataframe\">\n",
       "  <thead>\n",
       "    <tr style=\"text-align: right;\">\n",
       "      <th></th>\n",
       "      <th>Libellé.Prescription</th>\n",
       "      <th>Avis.Pharmaceutique</th>\n",
       "      <th>Statue</th>\n",
       "      <th>Classe</th>\n",
       "    </tr>\n",
       "  </thead>\n",
       "  <tbody>\n",
       "    <tr>\n",
       "      <th>0</th>\n",
       "      <td>perf NEFOPAM 60 mg (Acupan) + 1.25 DROPERIDOL ...</td>\n",
       "      <td>ASSOCIATION CONTRE INDIQUEE : SEROPLEX 20 MG C...</td>\n",
       "      <td>0.0</td>\n",
       "      <td>10.0</td>\n",
       "    </tr>\n",
       "    <tr>\n",
       "      <th>1</th>\n",
       "      <td>LAMALINE, GÉLULE</td>\n",
       "      <td>Propose arrêt pendant hospitalisation ou DOLIP...</td>\n",
       "      <td>0.0</td>\n",
       "      <td>1.0</td>\n",
       "    </tr>\n",
       "    <tr>\n",
       "      <th>2</th>\n",
       "      <td>XYZALL 5 MG, CPR</td>\n",
       "      <td>Non référencé aux HUS, propose CETIRIZINE 10MG...</td>\n",
       "      <td>0.0</td>\n",
       "      <td>1.0</td>\n",
       "    </tr>\n",
       "    <tr>\n",
       "      <th>3</th>\n",
       "      <td>AMOXICILLINE + A.CLAVULANIQUE 1g x4/j (Augmentin)</td>\n",
       "      <td>Il est recommandé de réduire la posologie en a...</td>\n",
       "      <td>0.0</td>\n",
       "      <td>1.0</td>\n",
       "    </tr>\n",
       "    <tr>\n",
       "      <th>4</th>\n",
       "      <td>FELODIPINE LP 5 MG SANDOZ, CPR À LIBÉRATION PR...</td>\n",
       "      <td>Non référencé aux HUS, Substitué par amlodipin...</td>\n",
       "      <td>0.0</td>\n",
       "      <td>1.0</td>\n",
       "    </tr>\n",
       "  </tbody>\n",
       "</table>\n",
       "</div>\n",
       "    <div class=\"colab-df-buttons\">\n",
       "\n",
       "  <div class=\"colab-df-container\">\n",
       "    <button class=\"colab-df-convert\" onclick=\"convertToInteractive('df-c2daa609-1c4b-4a24-86bf-b9750aef3830')\"\n",
       "            title=\"Convert this dataframe to an interactive table.\"\n",
       "            style=\"display:none;\">\n",
       "\n",
       "  <svg xmlns=\"http://www.w3.org/2000/svg\" height=\"24px\" viewBox=\"0 -960 960 960\">\n",
       "    <path d=\"M120-120v-720h720v720H120Zm60-500h600v-160H180v160Zm220 220h160v-160H400v160Zm0 220h160v-160H400v160ZM180-400h160v-160H180v160Zm440 0h160v-160H620v160ZM180-180h160v-160H180v160Zm440 0h160v-160H620v160Z\"/>\n",
       "  </svg>\n",
       "    </button>\n",
       "\n",
       "  <style>\n",
       "    .colab-df-container {\n",
       "      display:flex;\n",
       "      gap: 12px;\n",
       "    }\n",
       "\n",
       "    .colab-df-convert {\n",
       "      background-color: #E8F0FE;\n",
       "      border: none;\n",
       "      border-radius: 50%;\n",
       "      cursor: pointer;\n",
       "      display: none;\n",
       "      fill: #1967D2;\n",
       "      height: 32px;\n",
       "      padding: 0 0 0 0;\n",
       "      width: 32px;\n",
       "    }\n",
       "\n",
       "    .colab-df-convert:hover {\n",
       "      background-color: #E2EBFA;\n",
       "      box-shadow: 0px 1px 2px rgba(60, 64, 67, 0.3), 0px 1px 3px 1px rgba(60, 64, 67, 0.15);\n",
       "      fill: #174EA6;\n",
       "    }\n",
       "\n",
       "    .colab-df-buttons div {\n",
       "      margin-bottom: 4px;\n",
       "    }\n",
       "\n",
       "    [theme=dark] .colab-df-convert {\n",
       "      background-color: #3B4455;\n",
       "      fill: #D2E3FC;\n",
       "    }\n",
       "\n",
       "    [theme=dark] .colab-df-convert:hover {\n",
       "      background-color: #434B5C;\n",
       "      box-shadow: 0px 1px 3px 1px rgba(0, 0, 0, 0.15);\n",
       "      filter: drop-shadow(0px 1px 2px rgba(0, 0, 0, 0.3));\n",
       "      fill: #FFFFFF;\n",
       "    }\n",
       "  </style>\n",
       "\n",
       "    <script>\n",
       "      const buttonEl =\n",
       "        document.querySelector('#df-c2daa609-1c4b-4a24-86bf-b9750aef3830 button.colab-df-convert');\n",
       "      buttonEl.style.display =\n",
       "        google.colab.kernel.accessAllowed ? 'block' : 'none';\n",
       "\n",
       "      async function convertToInteractive(key) {\n",
       "        const element = document.querySelector('#df-c2daa609-1c4b-4a24-86bf-b9750aef3830');\n",
       "        const dataTable =\n",
       "          await google.colab.kernel.invokeFunction('convertToInteractive',\n",
       "                                                    [key], {});\n",
       "        if (!dataTable) return;\n",
       "\n",
       "        const docLinkHtml = 'Like what you see? Visit the ' +\n",
       "          '<a target=\"_blank\" href=https://colab.research.google.com/notebooks/data_table.ipynb>data table notebook</a>'\n",
       "          + ' to learn more about interactive tables.';\n",
       "        element.innerHTML = '';\n",
       "        dataTable['output_type'] = 'display_data';\n",
       "        await google.colab.output.renderOutput(dataTable, element);\n",
       "        const docLink = document.createElement('div');\n",
       "        docLink.innerHTML = docLinkHtml;\n",
       "        element.appendChild(docLink);\n",
       "      }\n",
       "    </script>\n",
       "  </div>\n",
       "\n",
       "\n",
       "<div id=\"df-fe1fa3eb-4267-4efb-9439-2a20ff2cab94\">\n",
       "  <button class=\"colab-df-quickchart\" onclick=\"quickchart('df-fe1fa3eb-4267-4efb-9439-2a20ff2cab94')\"\n",
       "            title=\"Suggest charts\"\n",
       "            style=\"display:none;\">\n",
       "\n",
       "<svg xmlns=\"http://www.w3.org/2000/svg\" height=\"24px\"viewBox=\"0 0 24 24\"\n",
       "     width=\"24px\">\n",
       "    <g>\n",
       "        <path d=\"M19 3H5c-1.1 0-2 .9-2 2v14c0 1.1.9 2 2 2h14c1.1 0 2-.9 2-2V5c0-1.1-.9-2-2-2zM9 17H7v-7h2v7zm4 0h-2V7h2v10zm4 0h-2v-4h2v4z\"/>\n",
       "    </g>\n",
       "</svg>\n",
       "  </button>\n",
       "\n",
       "<style>\n",
       "  .colab-df-quickchart {\n",
       "      --bg-color: #E8F0FE;\n",
       "      --fill-color: #1967D2;\n",
       "      --hover-bg-color: #E2EBFA;\n",
       "      --hover-fill-color: #174EA6;\n",
       "      --disabled-fill-color: #AAA;\n",
       "      --disabled-bg-color: #DDD;\n",
       "  }\n",
       "\n",
       "  [theme=dark] .colab-df-quickchart {\n",
       "      --bg-color: #3B4455;\n",
       "      --fill-color: #D2E3FC;\n",
       "      --hover-bg-color: #434B5C;\n",
       "      --hover-fill-color: #FFFFFF;\n",
       "      --disabled-bg-color: #3B4455;\n",
       "      --disabled-fill-color: #666;\n",
       "  }\n",
       "\n",
       "  .colab-df-quickchart {\n",
       "    background-color: var(--bg-color);\n",
       "    border: none;\n",
       "    border-radius: 50%;\n",
       "    cursor: pointer;\n",
       "    display: none;\n",
       "    fill: var(--fill-color);\n",
       "    height: 32px;\n",
       "    padding: 0;\n",
       "    width: 32px;\n",
       "  }\n",
       "\n",
       "  .colab-df-quickchart:hover {\n",
       "    background-color: var(--hover-bg-color);\n",
       "    box-shadow: 0 1px 2px rgba(60, 64, 67, 0.3), 0 1px 3px 1px rgba(60, 64, 67, 0.15);\n",
       "    fill: var(--button-hover-fill-color);\n",
       "  }\n",
       "\n",
       "  .colab-df-quickchart-complete:disabled,\n",
       "  .colab-df-quickchart-complete:disabled:hover {\n",
       "    background-color: var(--disabled-bg-color);\n",
       "    fill: var(--disabled-fill-color);\n",
       "    box-shadow: none;\n",
       "  }\n",
       "\n",
       "  .colab-df-spinner {\n",
       "    border: 2px solid var(--fill-color);\n",
       "    border-color: transparent;\n",
       "    border-bottom-color: var(--fill-color);\n",
       "    animation:\n",
       "      spin 1s steps(1) infinite;\n",
       "  }\n",
       "\n",
       "  @keyframes spin {\n",
       "    0% {\n",
       "      border-color: transparent;\n",
       "      border-bottom-color: var(--fill-color);\n",
       "      border-left-color: var(--fill-color);\n",
       "    }\n",
       "    20% {\n",
       "      border-color: transparent;\n",
       "      border-left-color: var(--fill-color);\n",
       "      border-top-color: var(--fill-color);\n",
       "    }\n",
       "    30% {\n",
       "      border-color: transparent;\n",
       "      border-left-color: var(--fill-color);\n",
       "      border-top-color: var(--fill-color);\n",
       "      border-right-color: var(--fill-color);\n",
       "    }\n",
       "    40% {\n",
       "      border-color: transparent;\n",
       "      border-right-color: var(--fill-color);\n",
       "      border-top-color: var(--fill-color);\n",
       "    }\n",
       "    60% {\n",
       "      border-color: transparent;\n",
       "      border-right-color: var(--fill-color);\n",
       "    }\n",
       "    80% {\n",
       "      border-color: transparent;\n",
       "      border-right-color: var(--fill-color);\n",
       "      border-bottom-color: var(--fill-color);\n",
       "    }\n",
       "    90% {\n",
       "      border-color: transparent;\n",
       "      border-bottom-color: var(--fill-color);\n",
       "    }\n",
       "  }\n",
       "</style>\n",
       "\n",
       "  <script>\n",
       "    async function quickchart(key) {\n",
       "      const quickchartButtonEl =\n",
       "        document.querySelector('#' + key + ' button');\n",
       "      quickchartButtonEl.disabled = true;  // To prevent multiple clicks.\n",
       "      quickchartButtonEl.classList.add('colab-df-spinner');\n",
       "      try {\n",
       "        const charts = await google.colab.kernel.invokeFunction(\n",
       "            'suggestCharts', [key], {});\n",
       "      } catch (error) {\n",
       "        console.error('Error during call to suggestCharts:', error);\n",
       "      }\n",
       "      quickchartButtonEl.classList.remove('colab-df-spinner');\n",
       "      quickchartButtonEl.classList.add('colab-df-quickchart-complete');\n",
       "    }\n",
       "    (() => {\n",
       "      let quickchartButtonEl =\n",
       "        document.querySelector('#df-fe1fa3eb-4267-4efb-9439-2a20ff2cab94 button');\n",
       "      quickchartButtonEl.style.display =\n",
       "        google.colab.kernel.accessAllowed ? 'block' : 'none';\n",
       "    })();\n",
       "  </script>\n",
       "</div>\n",
       "\n",
       "    </div>\n",
       "  </div>\n"
      ],
      "text/plain": [
       "                                Libellé.Prescription  \\\n",
       "0  perf NEFOPAM 60 mg (Acupan) + 1.25 DROPERIDOL ...   \n",
       "1                                   LAMALINE, GÉLULE   \n",
       "2                                   XYZALL 5 MG, CPR   \n",
       "3  AMOXICILLINE + A.CLAVULANIQUE 1g x4/j (Augmentin)   \n",
       "4  FELODIPINE LP 5 MG SANDOZ, CPR À LIBÉRATION PR...   \n",
       "\n",
       "                                 Avis.Pharmaceutique  Statue  Classe  \n",
       "0  ASSOCIATION CONTRE INDIQUEE : SEROPLEX 20 MG C...     0.0    10.0  \n",
       "1  Propose arrêt pendant hospitalisation ou DOLIP...     0.0     1.0  \n",
       "2  Non référencé aux HUS, propose CETIRIZINE 10MG...     0.0     1.0  \n",
       "3  Il est recommandé de réduire la posologie en a...     0.0     1.0  \n",
       "4  Non référencé aux HUS, Substitué par amlodipin...     0.0     1.0  "
      ]
     },
     "metadata": {},
     "output_type": "display_data"
    },
    {
     "data": {
      "text/html": [
       "<div>\n",
       "<style scoped>\n",
       "    .dataframe tbody tr th:only-of-type {\n",
       "        vertical-align: middle;\n",
       "    }\n",
       "\n",
       "    .dataframe tbody tr th {\n",
       "        vertical-align: top;\n",
       "    }\n",
       "\n",
       "    .dataframe thead th {\n",
       "        text-align: right;\n",
       "    }\n",
       "</style>\n",
       "<table border=\"1\" class=\"dataframe\">\n",
       "  <thead>\n",
       "    <tr style=\"text-align: right;\">\n",
       "      <th></th>\n",
       "      <th>0</th>\n",
       "    </tr>\n",
       "    <tr>\n",
       "      <th>Statue</th>\n",
       "      <th></th>\n",
       "    </tr>\n",
       "  </thead>\n",
       "  <tbody>\n",
       "    <tr>\n",
       "      <th>0.0</th>\n",
       "      <td>3929</td>\n",
       "    </tr>\n",
       "    <tr>\n",
       "      <th>1.0</th>\n",
       "      <td>145</td>\n",
       "    </tr>\n",
       "  </tbody>\n",
       "</table>\n",
       "</div><br><label><b>dtype:</b> int64</label>"
      ],
      "text/plain": [
       "Statue\n",
       "0.0    3929\n",
       "1.0     145\n",
       "dtype: int64"
      ]
     },
     "metadata": {},
     "output_type": "display_data"
    },
    {
     "data": {
      "text/html": [
       "<div>\n",
       "<style scoped>\n",
       "    .dataframe tbody tr th:only-of-type {\n",
       "        vertical-align: middle;\n",
       "    }\n",
       "\n",
       "    .dataframe tbody tr th {\n",
       "        vertical-align: top;\n",
       "    }\n",
       "\n",
       "    .dataframe thead th {\n",
       "        text-align: right;\n",
       "    }\n",
       "</style>\n",
       "<table border=\"1\" class=\"dataframe\">\n",
       "  <thead>\n",
       "    <tr style=\"text-align: right;\">\n",
       "      <th></th>\n",
       "      <th>0</th>\n",
       "    </tr>\n",
       "    <tr>\n",
       "      <th>Classe</th>\n",
       "      <th></th>\n",
       "    </tr>\n",
       "  </thead>\n",
       "  <tbody>\n",
       "    <tr>\n",
       "      <th>1.0</th>\n",
       "      <td>2149</td>\n",
       "    </tr>\n",
       "    <tr>\n",
       "      <th>2.0</th>\n",
       "      <td>141</td>\n",
       "    </tr>\n",
       "    <tr>\n",
       "      <th>3.0</th>\n",
       "      <td>177</td>\n",
       "    </tr>\n",
       "    <tr>\n",
       "      <th>4.0</th>\n",
       "      <td>478</td>\n",
       "    </tr>\n",
       "    <tr>\n",
       "      <th>5.0</th>\n",
       "      <td>143</td>\n",
       "    </tr>\n",
       "    <tr>\n",
       "      <th>6.0</th>\n",
       "      <td>34</td>\n",
       "    </tr>\n",
       "    <tr>\n",
       "      <th>8.0</th>\n",
       "      <td>446</td>\n",
       "    </tr>\n",
       "    <tr>\n",
       "      <th>10.0</th>\n",
       "      <td>80</td>\n",
       "    </tr>\n",
       "    <tr>\n",
       "      <th>11.0</th>\n",
       "      <td>426</td>\n",
       "    </tr>\n",
       "  </tbody>\n",
       "</table>\n",
       "</div><br><label><b>dtype:</b> int64</label>"
      ],
      "text/plain": [
       "Classe\n",
       "1.0     2149\n",
       "2.0      141\n",
       "3.0      177\n",
       "4.0      478\n",
       "5.0      143\n",
       "6.0       34\n",
       "8.0      446\n",
       "10.0      80\n",
       "11.0     426\n",
       "dtype: int64"
      ]
     },
     "metadata": {},
     "output_type": "display_data"
    }
   ],
   "source": [
    "display(result.head())\n",
    "display(result.groupby('Statue').size())\n",
    "display(result.groupby('Classe').size())"
   ]
  },
  {
   "cell_type": "code",
   "execution_count": 76,
   "metadata": {
    "colab": {
     "base_uri": "https://localhost:8080/",
     "height": 17
    },
    "id": "eToD6z4zPh80",
    "outputId": "79d38a6e-b0b2-4bb2-ecca-5546bb3b945b"
   },
   "outputs": [
    {
     "data": {
      "application/javascript": [
       "\n",
       "    async function download(id, filename, size) {\n",
       "      if (!google.colab.kernel.accessAllowed) {\n",
       "        return;\n",
       "      }\n",
       "      const div = document.createElement('div');\n",
       "      const label = document.createElement('label');\n",
       "      label.textContent = `Downloading \"${filename}\": `;\n",
       "      div.appendChild(label);\n",
       "      const progress = document.createElement('progress');\n",
       "      progress.max = size;\n",
       "      div.appendChild(progress);\n",
       "      document.body.appendChild(div);\n",
       "\n",
       "      const buffers = [];\n",
       "      let downloaded = 0;\n",
       "\n",
       "      const channel = await google.colab.kernel.comms.open(id);\n",
       "      // Send a message to notify the kernel that we're ready.\n",
       "      channel.send({})\n",
       "\n",
       "      for await (const message of channel.messages) {\n",
       "        // Send a message to notify the kernel that we're ready.\n",
       "        channel.send({})\n",
       "        if (message.buffers) {\n",
       "          for (const buffer of message.buffers) {\n",
       "            buffers.push(buffer);\n",
       "            downloaded += buffer.byteLength;\n",
       "            progress.value = downloaded;\n",
       "          }\n",
       "        }\n",
       "      }\n",
       "      const blob = new Blob(buffers, {type: 'application/binary'});\n",
       "      const a = document.createElement('a');\n",
       "      a.href = window.URL.createObjectURL(blob);\n",
       "      a.download = filename;\n",
       "      div.appendChild(a);\n",
       "      a.click();\n",
       "      div.remove();\n",
       "    }\n",
       "  "
      ],
      "text/plain": [
       "<IPython.core.display.Javascript object>"
      ]
     },
     "metadata": {},
     "output_type": "display_data"
    },
    {
     "data": {
      "application/javascript": [
       "download(\"download_0402b1ab-fb9b-4ff5-adfe-67c50f29c368\", \"resultat_defi_2.xlsx\", 264630)"
      ],
      "text/plain": [
       "<IPython.core.display.Javascript object>"
      ]
     },
     "metadata": {},
     "output_type": "display_data"
    }
   ],
   "source": [
    "# Sauvegarder le DataFrame dans un fichier Excel\n",
    "result.to_excel('resultat_defi_2.xlsx', index=False)\n",
    "\n",
    "# Télécharger le fichier Excel\n",
    "files.download('resultat_defi_2.xlsx')"
   ]
  }
 ],
 "metadata": {
  "colab": {
   "collapsed_sections": [
    "IeKsHGz57wy-",
    "8Luobr_K7niM",
    "9K1OQB1V_EiC",
    "9Xx7pb_cmOfn",
    "u-Ncql2WbLz-",
    "D6ZoYOZcX6v0",
    "vm4ENPqKZDS9",
    "hE77Fs4mc2Mk"
   ],
   "provenance": []
  },
  "kernelspec": {
   "display_name": "Python 3 (Spyder)",
   "language": "python3",
   "name": "python3"
  },
  "language_info": {
   "codemirror_mode": {
    "name": "ipython",
    "version": 3
   },
   "file_extension": ".py",
   "mimetype": "text/x-python",
   "name": "python",
   "nbconvert_exporter": "python",
   "pygments_lexer": "ipython3",
   "version": "3.12.7"
  }
 },
 "nbformat": 4,
 "nbformat_minor": 4
}
